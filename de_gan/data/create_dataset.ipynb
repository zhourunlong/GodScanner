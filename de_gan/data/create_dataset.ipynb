{
 "metadata": {
  "orig_nbformat": 2,
  "kernelspec": {
   "name": "python3",
   "display_name": "Python 3",
   "language": "python"
  }
 },
 "nbformat": 4,
 "nbformat_minor": 2,
 "cells": [
  {
   "cell_type": "code",
   "execution_count": 30,
   "metadata": {},
   "outputs": [],
   "source": [
    "tot_file = 0"
   ]
  },
  {
   "cell_type": "code",
   "execution_count": 31,
   "metadata": {},
   "outputs": [],
   "source": [
    "from PIL import Image\n",
    "import os\n",
    "os.makedirs(\"original\", exist_ok=True)\n",
    "os.makedirs(\"GT\", exist_ok=True)"
   ]
  },
  {
   "cell_type": "code",
   "execution_count": 32,
   "metadata": {},
   "outputs": [
    {
     "output_type": "stream",
     "name": "stdout",
     "text": [
      "['H01.bmp', 'H02.bmp', 'H03.bmp', 'H04.bmp', 'H05.bmp', 'P01.bmp', 'P02.bmp', 'P03.bmp', 'P04.bmp', 'P05.bmp'] ['H01.tiff', 'H02.tiff', 'H03.tiff', 'H04.tiff', 'H05.tiff', 'P01.tiff', 'P02.tiff', 'P03.tiff', 'P04.tiff', 'P05.tiff']\n",
      "H01\n",
      "H02\n",
      "H03\n",
      "H04\n",
      "H05\n",
      "P01\n",
      "P02\n",
      "P03\n",
      "P04\n",
      "P05\n",
      "10\n"
     ]
    }
   ],
   "source": [
    "original = os.listdir(\"DIBCO2009/original\")\n",
    "GT = os.listdir(\"DIBCO2009/GT\")\n",
    "print(original, GT)\n",
    "for original_pic in original:\n",
    "    original_path = os.path.join(\"DIBCO2009/original\", original_pic)\n",
    "    pic_name = os.path.splitext(original_pic)[0]\n",
    "    print(pic_name)\n",
    "    GT_path = os.path.join(\"DIBCO2009/GT\", pic_name + \".tiff\")\n",
    "    original_pic, GT_pic = Image.open(original_path), Image.open(GT_path)\n",
    "    #original_pic.show()\n",
    "    #GT_pic.show()\n",
    "    original_pic.save(os.path.join(\"original\", str(tot_file) + \".png\"))\n",
    "    GT_pic.save(os.path.join(\"GT\", str(tot_file) + \".png\"))\n",
    "    tot_file += 1\n",
    "print(tot_file)"
   ]
  },
  {
   "cell_type": "code",
   "execution_count": 33,
   "metadata": {},
   "outputs": [
    {
     "output_type": "stream",
     "name": "stdout",
     "text": [
      "['H01.tif', 'H01_estGT.tiff', 'H02.jpg', 'H02_estGT.tiff', 'H03.tif', 'H03_estGT.tiff', 'H04.bmp', 'H04_estGT.tiff', 'H05.jpg', 'H05_estGT.tiff', 'H06.tif', 'H06_estGT.tiff', 'H07.jpg', 'H07_estGT.tiff', 'H08.jpg', 'H08_estGT.tiff', 'H09.jpg', 'H09_estGT.tiff', 'H10.jpg', 'H10_estGT.tiff']\n",
      "H01\n",
      "H02\n",
      "H03\n",
      "H04\n",
      "H05\n",
      "H06\n",
      "H07\n",
      "H08\n",
      "H09\n",
      "H10\n",
      "20\n"
     ]
    }
   ],
   "source": [
    "all_files = os.listdir(\"DIBCO2010\")\n",
    "print(all_files)\n",
    "for pic in all_files:\n",
    "    pic_name = os.path.splitext(pic)[0]\n",
    "    if pic_name.endswith(\"GT\"):\n",
    "        continue\n",
    "    print(pic_name)\n",
    "    original_path = os.path.join(\"DIBCO2010\", pic)\n",
    "    GT_path = os.path.join(\"DIBCO2010\", pic_name + \"_estGT.tiff\")\n",
    "    original_pic, GT_pic = Image.open(original_path), Image.open(GT_path)\n",
    "    #original_pic.show()\n",
    "    #GT_pic.show()\n",
    "    original_pic.save(os.path.join(\"original\", str(tot_file) + \".png\"))\n",
    "    GT_pic.save(os.path.join(\"GT\", str(tot_file) + \".png\"))\n",
    "    tot_file += 1\n",
    "print(tot_file)"
   ]
  },
  {
   "cell_type": "code",
   "execution_count": 34,
   "metadata": {},
   "outputs": [
    {
     "output_type": "stream",
     "name": "stdout",
     "text": [
      "['HW1.png', 'HW1_GT.tiff', 'HW2.png', 'HW2_GT.tiff', 'HW3.png', 'HW3_GT.tiff', 'HW4.png', 'HW4_GT.tiff', 'HW5.png', 'HW5_GT.tiff', 'HW6.png', 'HW6_GT.tiff', 'HW7.png', 'HW7_GT.tiff', 'HW8.png', 'HW8_GT.tiff', 'PR1.png', 'PR1_GT.tiff', 'PR2.png', 'PR2_GT.tiff', 'PR3.png', 'PR3_GT.tiff', 'PR4.png', 'PR4_GT.tiff', 'PR5.png', 'PR5_GT.tiff', 'PR6.png', 'PR6_GT.tiff', 'PR7.png', 'PR7_GT.tiff', 'PR8.png', 'PR8_GT.tiff']\n",
      "HW1\n",
      "HW2\n",
      "HW3\n",
      "HW4\n",
      "HW5\n",
      "HW6\n",
      "HW7\n",
      "HW8\n",
      "PR1\n",
      "PR2\n",
      "PR3\n",
      "PR4\n",
      "PR5\n",
      "PR6\n",
      "PR7\n",
      "PR8\n",
      "36\n"
     ]
    }
   ],
   "source": [
    "all_files = os.listdir(\"DIBCO2011\")\n",
    "print(all_files)\n",
    "for pic in all_files:\n",
    "    pic_name = os.path.splitext(pic)[0]\n",
    "    if pic_name.endswith(\"GT\"):\n",
    "        continue\n",
    "    print(pic_name)\n",
    "    original_path = os.path.join(\"DIBCO2011\", pic)\n",
    "    GT_path = os.path.join(\"DIBCO2011\", pic_name + \"_GT.tiff\")\n",
    "    original_pic, GT_pic = Image.open(original_path), Image.open(GT_path)\n",
    "    #original_pic.show()\n",
    "    #GT_pic.show()\n",
    "    original_pic.save(os.path.join(\"original\", str(tot_file) + \".png\"))\n",
    "    GT_pic.save(os.path.join(\"GT\", str(tot_file) + \".png\"))\n",
    "    tot_file += 1\n",
    "print(tot_file)"
   ]
  },
  {
   "cell_type": "code",
   "execution_count": 35,
   "metadata": {},
   "outputs": [
    {
     "output_type": "stream",
     "name": "stdout",
     "text": [
      "['H01.png', 'H01_GT.tif', 'H02.png', 'H02_GT.tif', 'H03.png', 'H03_GT.tif', 'H04.png', 'H04_GT.tif', 'H05.png', 'H05_GT.tif', 'H06.png', 'H06_GT.tif', 'H07.png', 'H07_GT.tif', 'H08.png', 'H08_GT.tif', 'H09.png', 'H09_GT.tif', 'H10.png', 'H10_GT.tif', 'H11.png', 'H11_GT.tif', 'H12.png', 'H12_GT.tif', 'H13.png', 'H13_GT.tif', 'H14.png', 'H14_GT.tif']\n",
      "H01\n",
      "H02\n",
      "H03\n",
      "H04\n",
      "H05\n",
      "H06\n",
      "H07\n",
      "H08\n",
      "H09\n",
      "H10\n",
      "H11\n",
      "H12\n",
      "H13\n",
      "H14\n",
      "50\n"
     ]
    }
   ],
   "source": [
    "all_files = os.listdir(\"DIBCO2012\")\n",
    "print(all_files)\n",
    "for pic in all_files:\n",
    "    pic_name = os.path.splitext(pic)[0]\n",
    "    if pic_name.endswith(\"GT\"):\n",
    "        continue\n",
    "    print(pic_name)\n",
    "    original_path = os.path.join(\"DIBCO2012\", pic)\n",
    "    GT_path = os.path.join(\"DIBCO2012\", pic_name + \"_GT.tif\")\n",
    "    original_pic, GT_pic = Image.open(original_path), Image.open(GT_path)\n",
    "    #original_pic.show()\n",
    "    #GT_pic.show()\n",
    "    original_pic.save(os.path.join(\"original\", str(tot_file) + \".png\"))\n",
    "    GT_pic.save(os.path.join(\"GT\", str(tot_file) + \".png\"))\n",
    "    tot_file += 1\n",
    "print(tot_file)"
   ]
  },
  {
   "cell_type": "code",
   "execution_count": 36,
   "metadata": {},
   "outputs": [
    {
     "output_type": "stream",
     "name": "stdout",
     "text": [
      "['HW01.bmp', 'HW02.bmp', 'HW03.bmp', 'HW04.bmp', 'HW05.bmp', 'HW06.tiff', 'HW07.bmp', 'HW08.tiff', 'PR01.bmp', 'PR02.bmp', 'PR03.bmp', 'PR04.bmp', 'PR05.bmp', 'PR06.bmp', 'PR07.bmp', 'PR08.bmp'] ['HW01_estGT.tiff', 'HW02_estGT.tiff', 'HW03_estGT.tiff', 'HW04_estGT.tiff', 'HW05_estGT.tiff', 'HW06_estGT.tiff', 'HW07_estGT.tiff', 'HW08_estGT.tiff', 'PR01_estGT.tiff', 'PR02_estGT.tiff', 'PR03_estGT.tiff', 'PR04_estGT.tiff', 'PR05_estGT.tiff', 'PR06_estGT.tiff', 'PR07_estGT.tiff', 'PR08_estGT.tiff']\n",
      "HW01\n",
      "HW02\n",
      "HW03\n",
      "HW04\n",
      "HW05\n",
      "HW06\n",
      "HW07\n",
      "HW08\n",
      "PR01\n",
      "PR02\n",
      "PR03\n",
      "PR04\n",
      "PR05\n",
      "PR06\n",
      "PR07\n",
      "PR08\n",
      "66\n"
     ]
    }
   ],
   "source": [
    "original = os.listdir(\"DIBCO2013/OriginalImages\")\n",
    "GT = os.listdir(\"DIBCO2013/GTimages\")\n",
    "print(original, GT)\n",
    "for original_pic in original:\n",
    "    original_path = os.path.join(\"DIBCO2013/OriginalImages\", original_pic)\n",
    "    pic_name = os.path.splitext(original_pic)[0]\n",
    "    print(pic_name)\n",
    "    GT_path = os.path.join(\"DIBCO2013/GTimages\", pic_name + \"_estGT.tiff\")\n",
    "    original_pic, GT_pic = Image.open(original_path), Image.open(GT_path)\n",
    "    #original_pic.show()\n",
    "    #GT_pic.show()\n",
    "    original_pic.save(os.path.join(\"original\", str(tot_file) + \".png\"))\n",
    "    GT_pic.save(os.path.join(\"GT\", str(tot_file) + \".png\"))\n",
    "    tot_file += 1\n",
    "print(tot_file)"
   ]
  },
  {
   "cell_type": "code",
   "execution_count": 37,
   "metadata": {},
   "outputs": [
    {
     "output_type": "stream",
     "name": "stdout",
     "text": [
      "['H01.png', 'H01_estGT.tiff', 'H02.png', 'H02_estGT.tiff', 'H03.png', 'H03_estGT.tiff', 'H04.png', 'H04_estGT.tiff', 'H05.png', 'H05_estGT.tiff', 'H06.png', 'H06_estGT.tiff', 'H07.png', 'H07_estGT.tiff', 'H08.png', 'H08_estGT.tiff', 'H09.png', 'H09_estGT.tiff', 'H10.png', 'H10_estGT.tiff']\n",
      "H01\n",
      "H02\n",
      "H03\n",
      "H04\n",
      "H05\n",
      "H06\n",
      "H07\n",
      "H08\n",
      "H09\n",
      "H10\n",
      "76\n"
     ]
    }
   ],
   "source": [
    "all_files = os.listdir(\"DIBCO2014\")\n",
    "print(all_files)\n",
    "for pic in all_files:\n",
    "    pic_name = os.path.splitext(pic)[0]\n",
    "    if pic_name.endswith(\"GT\"):\n",
    "        continue\n",
    "    print(pic_name)\n",
    "    original_path = os.path.join(\"DIBCO2014\", pic)\n",
    "    GT_path = os.path.join(\"DIBCO2014\", pic_name + \"_estGT.tiff\")\n",
    "    original_pic, GT_pic = Image.open(original_path), Image.open(GT_path)\n",
    "    #original_pic.show()\n",
    "    #GT_pic.show()\n",
    "    original_pic.save(os.path.join(\"original\", str(tot_file) + \".png\"))\n",
    "    GT_pic.save(os.path.join(\"GT\", str(tot_file) + \".png\"))\n",
    "    tot_file += 1\n",
    "print(tot_file)"
   ]
  },
  {
   "cell_type": "code",
   "execution_count": 39,
   "metadata": {},
   "outputs": [
    {
     "output_type": "stream",
     "name": "stdout",
     "text": [
      "['1.bmp', '10.bmp', '2.bmp', '3.bmp', '4.bmp', '5.bmp', '6.bmp', '7.bmp', '8.bmp', '9.bmp'] ['10_gt.bmp', '1_gt.bmp', '2_gt.bmp', '3_gt.bmp', '4_gt.bmp', '5_gt.bmp', '6_gt.bmp', '7_gt.bmp', '8_gt.bmp', '9_gt.bmp']\n",
      "1\n",
      "10\n",
      "2\n",
      "3\n",
      "4\n",
      "5\n",
      "6\n",
      "7\n",
      "8\n",
      "9\n",
      "86\n"
     ]
    }
   ],
   "source": [
    "original = os.listdir(\"DIBCO2016/DIPCO2016_dataset\")\n",
    "GT = os.listdir(\"DIBCO2016/DIPCO2016_Dataset_GT\")\n",
    "print(original, GT)\n",
    "for original_pic in original:\n",
    "    original_path = os.path.join(\"DIBCO2016/DIPCO2016_dataset\", original_pic)\n",
    "    pic_name = os.path.splitext(original_pic)[0]\n",
    "    print(pic_name)\n",
    "    GT_path = os.path.join(\"DIBCO2016/DIPCO2016_Dataset_GT\", pic_name + \"_gt.bmp\")\n",
    "    original_pic, GT_pic = Image.open(original_path), Image.open(GT_path)\n",
    "    #original_pic.show()\n",
    "    #GT_pic.show()\n",
    "    original_pic.save(os.path.join(\"original\", str(tot_file) + \".png\"))\n",
    "    GT_pic.save(os.path.join(\"GT\", str(tot_file) + \".png\"))\n",
    "    tot_file += 1\n",
    "print(tot_file)"
   ]
  },
  {
   "cell_type": "code",
   "execution_count": 40,
   "metadata": {},
   "outputs": [
    {
     "output_type": "stream",
     "name": "stdout",
     "text": [
      "['1.bmp', '10.bmp', '11.bmp', '12.bmp', '13.bmp', '14.bmp', '15.bmp', '16.bmp', '17.bmp', '18.bmp', '19.bmp', '2.bmp', '20.bmp', '3.bmp', '4.bmp', '5.bmp', '6.bmp', '7.bmp', '8.bmp', '9.bmp'] ['10_gt.bmp', '11_gt.bmp', '12_gt.bmp', '13_gt.bmp', '14_gt.bmp', '15_gt.bmp', '16_gt.bmp', '17_gt.bmp', '18_gt.bmp', '19_gt.bmp', '1_gt.bmp', '20_gt.bmp', '2_gt.bmp', '3_gt.bmp', '4_gt.bmp', '5_gt.bmp', '6_gt.bmp', '7_gt.bmp', '8_gt.bmp', '9_gt.bmp']\n",
      "1\n",
      "10\n",
      "11\n",
      "12\n",
      "13\n",
      "14\n",
      "15\n",
      "16\n",
      "17\n",
      "18\n",
      "19\n",
      "2\n",
      "20\n",
      "3\n",
      "4\n",
      "5\n",
      "6\n",
      "7\n",
      "8\n",
      "9\n",
      "106\n"
     ]
    }
   ],
   "source": [
    "original = os.listdir(\"DIBCO2017/Dataset\")\n",
    "GT = os.listdir(\"DIBCO2017/GT\")\n",
    "print(original, GT)\n",
    "for original_pic in original:\n",
    "    original_path = os.path.join(\"DIBCO2017/Dataset\", original_pic)\n",
    "    pic_name = os.path.splitext(original_pic)[0]\n",
    "    print(pic_name)\n",
    "    GT_path = os.path.join(\"DIBCO2017/GT\", pic_name + \"_gt.bmp\")\n",
    "    original_pic, GT_pic = Image.open(original_path), Image.open(GT_path)\n",
    "    #original_pic.show()\n",
    "    #GT_pic.show()\n",
    "    original_pic.save(os.path.join(\"original\", str(tot_file) + \".png\"))\n",
    "    GT_pic.save(os.path.join(\"GT\", str(tot_file) + \".png\"))\n",
    "    tot_file += 1\n",
    "print(tot_file)"
   ]
  },
  {
   "cell_type": "code",
   "execution_count": 41,
   "metadata": {},
   "outputs": [
    {
     "output_type": "stream",
     "name": "stdout",
     "text": [
      "['1.bmp', '10.bmp', '2.bmp', '3.bmp', '4.bmp', '5.bmp', '6.bmp', '7.bmp', '8.bmp', '9.bmp'] ['10_gt.bmp', '1_gt.bmp', '2_gt.bmp', '3_gt.bmp', '4_gt.bmp', '5_gt.bmp', '6_gt.bmp', '7_gt.bmp', '8_gt.bmp', '9_gt.bmp']\n",
      "1\n",
      "10\n",
      "2\n",
      "3\n",
      "4\n",
      "5\n",
      "6\n",
      "7\n",
      "8\n",
      "9\n",
      "116\n"
     ]
    }
   ],
   "source": [
    "original = os.listdir(\"DIBCO2018/dataset\")\n",
    "GT = os.listdir(\"DIBCO2018/gt\")\n",
    "print(original, GT)\n",
    "for original_pic in original:\n",
    "    original_path = os.path.join(\"DIBCO2018/dataset\", original_pic)\n",
    "    pic_name = os.path.splitext(original_pic)[0]\n",
    "    print(pic_name)\n",
    "    GT_path = os.path.join(\"DIBCO2018/gt\", pic_name + \"_gt.bmp\")\n",
    "    original_pic, GT_pic = Image.open(original_path), Image.open(GT_path)\n",
    "    #original_pic.show()\n",
    "    #GT_pic.show()\n",
    "    original_pic.save(os.path.join(\"original\", str(tot_file) + \".png\"))\n",
    "    GT_pic.save(os.path.join(\"GT\", str(tot_file) + \".png\"))\n",
    "    tot_file += 1\n",
    "print(tot_file)"
   ]
  },
  {
   "cell_type": "code",
   "execution_count": 42,
   "metadata": {},
   "outputs": [
    {
     "output_type": "stream",
     "name": "stdout",
     "text": [
      "['1.bmp', '10.bmp', '11.bmp', '12.bmp', '13.bmp', '14.bmp', '15.bmp', '16.bmp', '17.bmp', '18.bmp', '19.bmp', '2.bmp', '20.bmp', '3.bmp', '4.bmp', '5.bmp', '6.bmp', '7.bmp', '8.bmp', '9.bmp'] ['1.bmp', '10.bmp', '11.bmp', '12.bmp', '13.bmp', '14.bmp', '15.bmp', '16.bmp', '17.bmp', '18.bmp', '19.bmp', '2.bmp', '20.bmp', '3.bmp', '4.bmp', '5.bmp', '6.bmp', '7.bmp', '8.bmp', '9.bmp']\n",
      "1\n",
      "10\n",
      "11\n",
      "12\n",
      "13\n",
      "14\n",
      "15\n",
      "16\n",
      "17\n",
      "18\n",
      "19\n",
      "2\n",
      "20\n",
      "3\n",
      "4\n",
      "5\n",
      "6\n",
      "7\n",
      "8\n",
      "9\n",
      "136\n"
     ]
    }
   ],
   "source": [
    "original = os.listdir(\"DIBCO2019/Dataset\")\n",
    "GT = os.listdir(\"DIBCO2019/GT\")\n",
    "print(original, GT)\n",
    "for original_pic in original:\n",
    "    original_path = os.path.join(\"DIBCO2019/Dataset\", original_pic)\n",
    "    pic_name = os.path.splitext(original_pic)[0]\n",
    "    print(pic_name)\n",
    "    GT_path = os.path.join(\"DIBCO2019/GT\", pic_name + \".bmp\")\n",
    "    original_pic, GT_pic = Image.open(original_path), Image.open(GT_path)\n",
    "    #original_pic.show()\n",
    "    #GT_pic.show()\n",
    "    original_pic.save(os.path.join(\"original\", str(tot_file) + \".png\"))\n",
    "    GT_pic.save(os.path.join(\"GT\", str(tot_file) + \".png\"))\n",
    "    tot_file += 1\n",
    "print(tot_file)"
   ]
  },
  {
   "cell_type": "code",
   "execution_count": 43,
   "metadata": {},
   "outputs": [
    {
     "output_type": "stream",
     "name": "stdout",
     "text": [
      "['Fontfre_Noisec_TE.png', 'Fontfre_Noisec_TR.png', 'Fontfre_Noisec_VA.png', 'Fontfre_Noisef_TE.png', 'Fontfre_Noisef_TR.png', 'Fontfre_Noisef_VA.png', 'Fontfre_Noisep_TE.png', 'Fontfre_Noisep_TR.png', 'Fontfre_Noisep_VA.png', 'Fontfre_Noisew_TE.png', 'Fontfre_Noisew_TR.png', 'Fontfre_Noisew_VA.png', 'Fontfrm_Noisec_TE.png', 'Fontfrm_Noisec_TR.png', 'Fontfrm_Noisec_VA.png', 'Fontfrm_Noisef_TE.png', 'Fontfrm_Noisef_TR.png', 'Fontfrm_Noisef_VA.png', 'Fontfrm_Noisep_TE.png', 'Fontfrm_Noisep_TR.png', 'Fontfrm_Noisep_VA.png', 'Fontfrm_Noisew_TE.png', 'Fontfrm_Noisew_TR.png', 'Fontfrm_Noisew_VA.png', 'Fontfse_Noisec_TE.png', 'Fontfse_Noisec_TR.png', 'Fontfse_Noisec_VA.png', 'Fontfse_Noisef_TE.png', 'Fontfse_Noisef_TR.png', 'Fontfse_Noisef_VA.png', 'Fontfse_Noisep_TE.png', 'Fontfse_Noisep_TR.png', 'Fontfse_Noisep_VA.png', 'Fontfse_Noisew_TE.png', 'Fontfse_Noisew_TR.png', 'Fontfse_Noisew_VA.png', 'Fontfsm_Noisec_TE.png', 'Fontfsm_Noisec_TR.png', 'Fontfsm_Noisec_VA.png', 'Fontfsm_Noisef_TE.png', 'Fontfsm_Noisef_TR.png', 'Fontfsm_Noisef_VA.png', 'Fontfsm_Noisep_TE.png', 'Fontfsm_Noisep_TR.png', 'Fontfsm_Noisep_VA.png', 'Fontfsm_Noisew_TE.png', 'Fontfsm_Noisew_TR.png', 'Fontfsm_Noisew_VA.png', 'Fontfte_Noisec_TE.png', 'Fontfte_Noisec_TR.png', 'Fontfte_Noisec_VA.png', 'Fontfte_Noisef_TE.png', 'Fontfte_Noisef_TR.png', 'Fontfte_Noisef_VA.png', 'Fontfte_Noisep_TE.png', 'Fontfte_Noisep_TR.png', 'Fontfte_Noisep_VA.png', 'Fontfte_Noisew_TE.png', 'Fontfte_Noisew_TR.png', 'Fontfte_Noisew_VA.png', 'Fontftm_Noisec_TE.png', 'Fontftm_Noisec_TR.png', 'Fontftm_Noisec_VA.png', 'Fontftm_Noisef_TE.png', 'Fontftm_Noisef_TR.png', 'Fontftm_Noisef_VA.png', 'Fontftm_Noisep_TE.png', 'Fontftm_Noisep_TR.png', 'Fontftm_Noisep_VA.png', 'Fontftm_Noisew_TE.png', 'Fontftm_Noisew_TR.png', 'Fontftm_Noisew_VA.png', 'FontLre_Noisec_TE.png', 'FontLre_Noisec_TR.png', 'FontLre_Noisec_VA.png', 'FontLre_Noisef_TE.png', 'FontLre_Noisef_TR.png', 'FontLre_Noisef_VA.png', 'FontLre_Noisep_TE.png', 'FontLre_Noisep_TR.png', 'FontLre_Noisep_VA.png', 'FontLre_Noisew_TE.png', 'FontLre_Noisew_TR.png', 'FontLre_Noisew_VA.png', 'FontLrm_Noisec_TE.png', 'FontLrm_Noisec_TR.png', 'FontLrm_Noisec_VA.png', 'FontLrm_Noisef_TE.png', 'FontLrm_Noisef_TR.png', 'FontLrm_Noisef_VA.png', 'FontLrm_Noisep_TE.png', 'FontLrm_Noisep_TR.png', 'FontLrm_Noisep_VA.png', 'FontLrm_Noisew_TE.png', 'FontLrm_Noisew_TR.png', 'FontLrm_Noisew_VA.png', 'FontLse_Noisec_TE.png', 'FontLse_Noisec_TR.png', 'FontLse_Noisec_VA.png', 'FontLse_Noisef_TE.png', 'FontLse_Noisef_TR.png', 'FontLse_Noisef_VA.png', 'FontLse_Noisep_TE.png', 'FontLse_Noisep_TR.png', 'FontLse_Noisep_VA.png', 'FontLse_Noisew_TE.png', 'FontLse_Noisew_TR.png', 'FontLse_Noisew_VA.png', 'FontLsm_Noisec_TE.png', 'FontLsm_Noisec_TR.png', 'FontLsm_Noisec_VA.png', 'FontLsm_Noisef_TE.png', 'FontLsm_Noisef_TR.png', 'FontLsm_Noisef_VA.png', 'FontLsm_Noisep_TE.png', 'FontLsm_Noisep_TR.png', 'FontLsm_Noisep_VA.png', 'FontLsm_Noisew_TE.png', 'FontLsm_Noisew_TR.png', 'FontLsm_Noisew_VA.png', 'FontLte_Noisec_TE.png', 'FontLte_Noisec_TR.png', 'FontLte_Noisec_VA.png', 'FontLte_Noisef_TE.png', 'FontLte_Noisef_TR.png', 'FontLte_Noisef_VA.png', 'FontLte_Noisep_TE.png', 'FontLte_Noisep_TR.png', 'FontLte_Noisep_VA.png', 'FontLte_Noisew_TE.png', 'FontLte_Noisew_TR.png', 'FontLte_Noisew_VA.png', 'FontLtm_Noisec_TE.png', 'FontLtm_Noisec_TR.png', 'FontLtm_Noisec_VA.png', 'FontLtm_Noisef_TE.png', 'FontLtm_Noisef_TR.png', 'FontLtm_Noisef_VA.png', 'FontLtm_Noisep_TE.png', 'FontLtm_Noisep_TR.png', 'FontLtm_Noisep_VA.png', 'FontLtm_Noisew_TE.png', 'FontLtm_Noisew_TR.png', 'FontLtm_Noisew_VA.png', 'Fontnre_Noisec_TE.png', 'Fontnre_Noisec_TR.png', 'Fontnre_Noisec_VA.png', 'Fontnre_Noisef_TE.png', 'Fontnre_Noisef_TR.png', 'Fontnre_Noisef_VA.png', 'Fontnre_Noisep_TE.png', 'Fontnre_Noisep_TR.png', 'Fontnre_Noisep_VA.png', 'Fontnre_Noisew_TE.png', 'Fontnre_Noisew_TR.png', 'Fontnre_Noisew_VA.png', 'Fontnrm_Noisec_TE.png', 'Fontnrm_Noisec_TR.png', 'Fontnrm_Noisec_VA.png', 'Fontnrm_Noisef_TE.png', 'Fontnrm_Noisef_TR.png', 'Fontnrm_Noisef_VA.png', 'Fontnrm_Noisep_TE.png', 'Fontnrm_Noisep_TR.png', 'Fontnrm_Noisep_VA.png', 'Fontnrm_Noisew_TE.png', 'Fontnrm_Noisew_TR.png', 'Fontnrm_Noisew_VA.png', 'Fontnse_Noisec_TE.png', 'Fontnse_Noisec_TR.png', 'Fontnse_Noisec_VA.png', 'Fontnse_Noisef_TE.png', 'Fontnse_Noisef_TR.png', 'Fontnse_Noisef_VA.png', 'Fontnse_Noisep_TE.png', 'Fontnse_Noisep_TR.png', 'Fontnse_Noisep_VA.png', 'Fontnse_Noisew_TE.png', 'Fontnse_Noisew_TR.png', 'Fontnse_Noisew_VA.png', 'Fontnsm_Noisec_TE.png', 'Fontnsm_Noisec_TR.png', 'Fontnsm_Noisec_VA.png', 'Fontnsm_Noisef_TE.png', 'Fontnsm_Noisef_TR.png', 'Fontnsm_Noisef_VA.png', 'Fontnsm_Noisep_TE.png', 'Fontnsm_Noisep_TR.png', 'Fontnsm_Noisep_VA.png', 'Fontnsm_Noisew_TE.png', 'Fontnsm_Noisew_TR.png', 'Fontnsm_Noisew_VA.png', 'Fontnte_Noisec_TE.png', 'Fontnte_Noisec_TR.png', 'Fontnte_Noisec_VA.png', 'Fontnte_Noisef_TE.png', 'Fontnte_Noisef_TR.png', 'Fontnte_Noisef_VA.png', 'Fontnte_Noisep_TE.png', 'Fontnte_Noisep_TR.png', 'Fontnte_Noisep_VA.png', 'Fontnte_Noisew_TE.png', 'Fontnte_Noisew_TR.png', 'Fontnte_Noisew_VA.png', 'Fontntm_Noisec_TE.png', 'Fontntm_Noisec_TR.png', 'Fontntm_Noisec_VA.png', 'Fontntm_Noisef_TE.png', 'Fontntm_Noisef_TR.png', 'Fontntm_Noisef_VA.png', 'Fontntm_Noisep_TE.png', 'Fontntm_Noisep_TR.png', 'Fontntm_Noisep_VA.png', 'Fontntm_Noisew_TE.png', 'Fontntm_Noisew_TR.png', 'Fontntm_Noisew_VA.png'] ['Fontfre_Clean_TE.png', 'Fontfre_Clean_TR.png', 'Fontfre_Clean_VA.png', 'Fontfrm_Clean_TE.png', 'Fontfrm_Clean_TR.png', 'Fontfrm_Clean_VA.png', 'Fontfse_Clean_TE.png', 'Fontfse_Clean_TR.png', 'Fontfse_Clean_VA.png', 'Fontfsm_Clean_TE.png', 'Fontfsm_Clean_TR.png', 'Fontfsm_Clean_VA.png', 'Fontfte_Clean_TE.png', 'Fontfte_Clean_TR.png', 'Fontfte_Clean_VA.png', 'Fontftm_Clean_TE.png', 'Fontftm_Clean_TR.png', 'Fontftm_Clean_VA.png', 'FontLre_Clean_TE.png', 'FontLre_Clean_TR.png', 'FontLre_Clean_VA.png', 'FontLrm_Clean_TE.png', 'FontLrm_Clean_TR.png', 'FontLrm_Clean_VA.png', 'FontLse_Clean_TE.png', 'FontLse_Clean_TR.png', 'FontLse_Clean_VA.png', 'FontLsm_Clean_TE.png', 'FontLsm_Clean_TR.png', 'FontLsm_Clean_VA.png', 'FontLte_Clean_TE.png', 'FontLte_Clean_TR.png', 'FontLte_Clean_VA.png', 'FontLtm_Clean_TE.png', 'FontLtm_Clean_TR.png', 'FontLtm_Clean_VA.png', 'Fontnre_Clean_TE.png', 'Fontnre_Clean_TR.png', 'Fontnre_Clean_VA.png', 'Fontnrm_Clean_TE.png', 'Fontnrm_Clean_TR.png', 'Fontnrm_Clean_VA.png', 'Fontnse_Clean_TE.png', 'Fontnse_Clean_TR.png', 'Fontnse_Clean_VA.png', 'Fontnsm_Clean_TE.png', 'Fontnsm_Clean_TR.png', 'Fontnsm_Clean_VA.png', 'Fontnte_Clean_TE.png', 'Fontnte_Clean_TR.png', 'Fontnte_Clean_VA.png', 'Fontntm_Clean_TE.png', 'Fontntm_Clean_TR.png', 'Fontntm_Clean_VA.png']\n",
      "352\n"
     ]
    }
   ],
   "source": [
    "original = os.listdir(\"SimulatedNoisyOffice/simulated_noisy_images_grayscale\")\n",
    "GT = os.listdir(\"SimulatedNoisyOffice/clean_images_grayscale\")\n",
    "print(original, GT)\n",
    "for original_pic in original:\n",
    "    original_path = os.path.join(\"SimulatedNoisyOffice/simulated_noisy_images_grayscale\", original_pic)\n",
    "    pic_name = os.path.splitext(original_pic)[0]\n",
    "    part = pic_name.split(\"_\")\n",
    "    GT_path = os.path.join(\"SimulatedNoisyOffice/clean_images_grayscale\", part[0] + \"_Clean_\" + part[2] + \".png\")\n",
    "    original_pic, GT_pic = Image.open(original_path), Image.open(GT_path)\n",
    "    #original_pic.show()\n",
    "    #GT_pic.show()\n",
    "    original_pic.save(os.path.join(\"original\", str(tot_file) + \".png\"))\n",
    "    GT_pic.save(os.path.join(\"GT\", str(tot_file) + \".png\"))\n",
    "    tot_file += 1\n",
    "print(tot_file)"
   ]
  },
  {
   "cell_type": "code",
   "execution_count": null,
   "metadata": {},
   "outputs": [],
   "source": []
  }
 ]
}